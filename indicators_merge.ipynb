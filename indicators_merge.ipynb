{
 "cells": [
  {
   "cell_type": "code",
   "execution_count": 1,
   "metadata": {},
   "outputs": [],
   "source": [
    "import pandas as pd\n",
    "import numpy as np\n"
   ]
  },
  {
   "cell_type": "code",
   "execution_count": 3,
   "metadata": {},
   "outputs": [],
   "source": [
    "nabil_df=pd.read_excel('data/nabil_indicators.xlsx')\n",
    "nica_df=pd.read_excel('data/nica_indicators.xlsx')\n",
    "prvu_df=pd.read_excel('data/prvu_indicators.xlsx')\n",
    "sbl_df=pd.read_excel('data/sbl_indicators.xlsx')\n",
    "agriculture_df=pd.read_excel('data/agriculture_indicators.xlsx')\n",
    "nabil_df=pd.read_excel('data/nabil_indicators.xlsx')\n",
    "#read csv files\n",
    "gbime_df=pd.read_csv('data/gbime_indicators.csv')\n",
    "prime_df=pd.read_csv('data/prime_indicators.csv')\n",
    "gbime_df=pd.read_csv('data/gbime_indicators.csv')"
   ]
  },
  {
   "cell_type": "code",
   "execution_count": null,
   "metadata": {},
   "outputs": [],
   "source": []
  }
 ],
 "metadata": {
  "kernelspec": {
   "display_name": "ds",
   "language": "python",
   "name": "python3"
  },
  "language_info": {
   "codemirror_mode": {
    "name": "ipython",
    "version": 3
   },
   "file_extension": ".py",
   "mimetype": "text/x-python",
   "name": "python",
   "nbconvert_exporter": "python",
   "pygments_lexer": "ipython3",
   "version": "3.12.3"
  }
 },
 "nbformat": 4,
 "nbformat_minor": 2
}
