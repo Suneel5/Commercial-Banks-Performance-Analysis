{
 "cells": [
  {
   "cell_type": "code",
   "execution_count": 22,
   "metadata": {},
   "outputs": [],
   "source": [
    "import numpy as np\n",
    "import pandas as pd\n",
    "import seaborn as sns"
   ]
  },
  {
   "cell_type": "code",
   "execution_count": 23,
   "metadata": {},
   "outputs": [],
   "source": [
    "df_indicator=pd.read_csv('data/allBank_indicators.csv')\n",
    "df_price=pd.read_csv('data/allBanksPrices.csv',index_col='Bank')"
   ]
  },
  {
   "cell_type": "code",
   "execution_count": 24,
   "metadata": {},
   "outputs": [
    {
     "data": {
      "text/html": [
       "<div>\n",
       "<style scoped>\n",
       "    .dataframe tbody tr th:only-of-type {\n",
       "        vertical-align: middle;\n",
       "    }\n",
       "\n",
       "    .dataframe tbody tr th {\n",
       "        vertical-align: top;\n",
       "    }\n",
       "\n",
       "    .dataframe thead th {\n",
       "        text-align: right;\n",
       "    }\n",
       "</style>\n",
       "<table border=\"1\" class=\"dataframe\">\n",
       "  <thead>\n",
       "    <tr style=\"text-align: right;\">\n",
       "      <th></th>\n",
       "      <th>Unnamed: 0</th>\n",
       "      <th>Fiscal Year</th>\n",
       "      <th>Net Profit/Gross Income</th>\n",
       "      <th>Earnings Per Share</th>\n",
       "      <th>Price/Earnings Ratio</th>\n",
       "      <th>Bonus Dividend</th>\n",
       "      <th>Cash Dividend</th>\n",
       "      <th>Bank</th>\n",
       "      <th>Total Dividend</th>\n",
       "    </tr>\n",
       "  </thead>\n",
       "  <tbody>\n",
       "    <tr>\n",
       "      <th>0</th>\n",
       "      <td>0</td>\n",
       "      <td>2075/76</td>\n",
       "      <td>21.13</td>\n",
       "      <td>38.05</td>\n",
       "      <td>17.50</td>\n",
       "      <td>5.0</td>\n",
       "      <td>20.00</td>\n",
       "      <td>EBL</td>\n",
       "      <td>25.00</td>\n",
       "    </tr>\n",
       "    <tr>\n",
       "      <th>1</th>\n",
       "      <td>1</td>\n",
       "      <td>2076/77</td>\n",
       "      <td>16.25</td>\n",
       "      <td>29.71</td>\n",
       "      <td>22.72</td>\n",
       "      <td>5.0</td>\n",
       "      <td>5.53</td>\n",
       "      <td>EBL</td>\n",
       "      <td>10.53</td>\n",
       "    </tr>\n",
       "    <tr>\n",
       "      <th>2</th>\n",
       "      <td>2</td>\n",
       "      <td>2077/78</td>\n",
       "      <td>13.54</td>\n",
       "      <td>19.91</td>\n",
       "      <td>37.06</td>\n",
       "      <td>6.0</td>\n",
       "      <td>4.32</td>\n",
       "      <td>EBL</td>\n",
       "      <td>10.32</td>\n",
       "    </tr>\n",
       "    <tr>\n",
       "      <th>3</th>\n",
       "      <td>3</td>\n",
       "      <td>2078/79</td>\n",
       "      <td>14.29</td>\n",
       "      <td>26.30</td>\n",
       "      <td>16.69</td>\n",
       "      <td>13.0</td>\n",
       "      <td>7.68</td>\n",
       "      <td>EBL</td>\n",
       "      <td>20.68</td>\n",
       "    </tr>\n",
       "    <tr>\n",
       "      <th>4</th>\n",
       "      <td>4</td>\n",
       "      <td>2079/80</td>\n",
       "      <td>13.99</td>\n",
       "      <td>31.43</td>\n",
       "      <td>17.91</td>\n",
       "      <td>10.0</td>\n",
       "      <td>10.53</td>\n",
       "      <td>EBL</td>\n",
       "      <td>20.53</td>\n",
       "    </tr>\n",
       "  </tbody>\n",
       "</table>\n",
       "</div>"
      ],
      "text/plain": [
       "   Unnamed: 0 Fiscal Year  Net Profit/Gross Income  Earnings Per Share  \\\n",
       "0           0     2075/76                    21.13               38.05   \n",
       "1           1     2076/77                    16.25               29.71   \n",
       "2           2     2077/78                    13.54               19.91   \n",
       "3           3     2078/79                    14.29               26.30   \n",
       "4           4     2079/80                    13.99               31.43   \n",
       "\n",
       "   Price/Earnings Ratio  Bonus Dividend  Cash Dividend Bank  Total Dividend  \n",
       "0                 17.50             5.0          20.00  EBL           25.00  \n",
       "1                 22.72             5.0           5.53  EBL           10.53  \n",
       "2                 37.06             6.0           4.32  EBL           10.32  \n",
       "3                 16.69            13.0           7.68  EBL           20.68  \n",
       "4                 17.91            10.0          10.53  EBL           20.53  "
      ]
     },
     "execution_count": 24,
     "metadata": {},
     "output_type": "execute_result"
    }
   ],
   "source": [
    "df_indicator.head(5)"
   ]
  },
  {
   "cell_type": "code",
   "execution_count": 25,
   "metadata": {},
   "outputs": [
    {
     "data": {
      "text/plain": [
       "<Axes: >"
      ]
     },
     "execution_count": 25,
     "metadata": {},
     "output_type": "execute_result"
    },
    {
     "data": {
      "image/png": "[encoded data removed]",
      "text/plain": [
       "<Figure size 640x480 with 2 Axes>"
      ]
     },
     "metadata": {},
     "output_type": "display_data"
    }
   ],
   "source": [
    "corr=df_indicator.drop(['Fiscal Year','Bank','Unnamed: 0'],axis=1).corr()\n",
    "\n",
    "%matplotlib inline\n",
    "# plot the heatmap\n",
    "sns.heatmap(corr,annot=True,cmap=\"crest\")"
   ]
  },
  {
   "cell_type": "code",
   "execution_count": 26,
   "metadata": {},
   "outputs": [],
   "source": [
    "df_price.loc[(df_price['Date']>'2019-07-03') & (df_price['Date']<'2020-09-16') , \"Fiscal Year\"]='2075/76'\n",
    "df_price.loc[(df_price['Date']>'2019-09-15') & (df_price['Date']<'2020-08-16') , \"Fiscal Year\"]='2076/77'\n",
    "df_price.loc[(df_price['Date']>'2020-07-15') & (df_price['Date']<'2021-07-16') , \"Fiscal Year\"]='2077/78'\n",
    "df_price.loc[(df_price['Date']>'2021-07-15') & (df_price['Date']<'2022-07-16') , \"Fiscal Year\"]='2078/79'\n",
    "df_price.loc[(df_price['Date']>'2022-07-15'),\"Fiscal Year\"]='2079/80'\n",
    "# df_price.loc[(df_price['Date']>'2023-07-15')  , \"Fiscal Year\"]='2080/81'"
   ]
  },
  {
   "cell_type": "code",
   "execution_count": 19,
   "metadata": {},
   "outputs": [],
   "source": [
    "# df_price.drop(columns='Unnamed: 0',inplace=True)"
   ]
  },
  {
   "cell_type": "code",
   "execution_count": 27,
   "metadata": {},
   "outputs": [
    {
     "data": {
      "text/html": [
       "<div>\n",
       "<style scoped>\n",
       "    .dataframe tbody tr th:only-of-type {\n",
       "        vertical-align: middle;\n",
       "    }\n",
       "\n",
       "    .dataframe tbody tr th {\n",
       "        vertical-align: top;\n",
       "    }\n",
       "\n",
       "    .dataframe thead th {\n",
       "        text-align: right;\n",
       "    }\n",
       "</style>\n",
       "<table border=\"1\" class=\"dataframe\">\n",
       "  <thead>\n",
       "    <tr style=\"text-align: right;\">\n",
       "      <th></th>\n",
       "      <th>Date</th>\n",
       "      <th>Close</th>\n",
       "      <th>Volume</th>\n",
       "      <th>Percent Change</th>\n",
       "      <th>Fiscal Year</th>\n",
       "    </tr>\n",
       "    <tr>\n",
       "      <th>Bank</th>\n",
       "      <th></th>\n",
       "      <th></th>\n",
       "      <th></th>\n",
       "      <th></th>\n",
       "      <th></th>\n",
       "    </tr>\n",
       "  </thead>\n",
       "  <tbody>\n",
       "  </tbody>\n",
       "</table>\n",
       "</div>"
      ],
      "text/plain": [
       "Empty DataFrame\n",
       "Columns: [Date, Close, Volume, Percent Change, Fiscal Year]\n",
       "Index: []"
      ]
     },
     "execution_count": 27,
     "metadata": {},
     "output_type": "execute_result"
    }
   ],
   "source": [
    "df_price[df_price['Fiscal Year'].isnull()]"
   ]
  },
  {
   "cell_type": "code",
   "execution_count": 28,
   "metadata": {},
   "outputs": [
    {
     "data": {
      "text/html": [
       "<div>\n",
       "<style scoped>\n",
       "    .dataframe tbody tr th:only-of-type {\n",
       "        vertical-align: middle;\n",
       "    }\n",
       "\n",
       "    .dataframe tbody tr th {\n",
       "        vertical-align: top;\n",
       "    }\n",
       "\n",
       "    .dataframe thead th {\n",
       "        text-align: right;\n",
       "    }\n",
       "</style>\n",
       "<table border=\"1\" class=\"dataframe\">\n",
       "  <thead>\n",
       "    <tr style=\"text-align: right;\">\n",
       "      <th></th>\n",
       "      <th>Date</th>\n",
       "      <th>Close</th>\n",
       "      <th>Volume</th>\n",
       "      <th>Percent Change</th>\n",
       "      <th>Fiscal Year</th>\n",
       "    </tr>\n",
       "    <tr>\n",
       "      <th>Bank</th>\n",
       "      <th></th>\n",
       "      <th></th>\n",
       "      <th></th>\n",
       "      <th></th>\n",
       "      <th></th>\n",
       "    </tr>\n",
       "  </thead>\n",
       "  <tbody>\n",
       "    <tr>\n",
       "      <th>GBIME</th>\n",
       "      <td>2024-07-04</td>\n",
       "      <td>179.0</td>\n",
       "      <td>107,015.00</td>\n",
       "      <td>-0.33</td>\n",
       "      <td>2079/80</td>\n",
       "    </tr>\n",
       "    <tr>\n",
       "      <th>GBIME</th>\n",
       "      <td>2024-07-03</td>\n",
       "      <td>180.6</td>\n",
       "      <td>151,772.00</td>\n",
       "      <td>-0.50</td>\n",
       "      <td>2079/80</td>\n",
       "    </tr>\n",
       "    <tr>\n",
       "      <th>GBIME</th>\n",
       "      <td>2024-07-02</td>\n",
       "      <td>181.5</td>\n",
       "      <td>167,185.00</td>\n",
       "      <td>4.37</td>\n",
       "      <td>2079/80</td>\n",
       "    </tr>\n",
       "    <tr>\n",
       "      <th>GBIME</th>\n",
       "      <td>2024-07-01</td>\n",
       "      <td>173.9</td>\n",
       "      <td>76,610.00</td>\n",
       "      <td>0.81</td>\n",
       "      <td>2079/80</td>\n",
       "    </tr>\n",
       "    <tr>\n",
       "      <th>GBIME</th>\n",
       "      <td>2024-06-30</td>\n",
       "      <td>172.5</td>\n",
       "      <td>53,993.00</td>\n",
       "      <td>-0.52</td>\n",
       "      <td>2079/80</td>\n",
       "    </tr>\n",
       "    <tr>\n",
       "      <th>...</th>\n",
       "      <td>...</td>\n",
       "      <td>...</td>\n",
       "      <td>...</td>\n",
       "      <td>...</td>\n",
       "      <td>...</td>\n",
       "    </tr>\n",
       "    <tr>\n",
       "      <th>SANIMA</th>\n",
       "      <td>2019-07-23</td>\n",
       "      <td>357.0</td>\n",
       "      <td>12,922.00</td>\n",
       "      <td>0.56</td>\n",
       "      <td>2075/76</td>\n",
       "    </tr>\n",
       "    <tr>\n",
       "      <th>SANIMA</th>\n",
       "      <td>2019-07-22</td>\n",
       "      <td>355.0</td>\n",
       "      <td>17,018.00</td>\n",
       "      <td>0.00</td>\n",
       "      <td>2075/76</td>\n",
       "    </tr>\n",
       "    <tr>\n",
       "      <th>SANIMA</th>\n",
       "      <td>2019-07-21</td>\n",
       "      <td>355.0</td>\n",
       "      <td>25,230.00</td>\n",
       "      <td>-0.56</td>\n",
       "      <td>2075/76</td>\n",
       "    </tr>\n",
       "    <tr>\n",
       "      <th>SANIMA</th>\n",
       "      <td>2019-07-18</td>\n",
       "      <td>357.0</td>\n",
       "      <td>31,408.00</td>\n",
       "      <td>0.28</td>\n",
       "      <td>2075/76</td>\n",
       "    </tr>\n",
       "    <tr>\n",
       "      <th>SANIMA</th>\n",
       "      <td>2019-07-17</td>\n",
       "      <td>356.0</td>\n",
       "      <td>17,566.00</td>\n",
       "      <td>2.30</td>\n",
       "      <td>2075/76</td>\n",
       "    </tr>\n",
       "  </tbody>\n",
       "</table>\n",
       "<p>11009 rows × 5 columns</p>\n",
       "</div>"
      ],
      "text/plain": [
       "              Date  Close      Volume Percent Change Fiscal Year\n",
       "Bank                                                            \n",
       "GBIME   2024-07-04  179.0  107,015.00         -0.33      2079/80\n",
       "GBIME   2024-07-03  180.6  151,772.00         -0.50      2079/80\n",
       "GBIME   2024-07-02  181.5  167,185.00          4.37      2079/80\n",
       "GBIME   2024-07-01  173.9   76,610.00          0.81      2079/80\n",
       "GBIME   2024-06-30  172.5   53,993.00         -0.52      2079/80\n",
       "...            ...    ...         ...            ...         ...\n",
       "SANIMA  2019-07-23  357.0   12,922.00          0.56      2075/76\n",
       "SANIMA  2019-07-22  355.0   17,018.00          0.00      2075/76\n",
       "SANIMA  2019-07-21  355.0   25,230.00         -0.56      2075/76\n",
       "SANIMA  2019-07-18  357.0   31,408.00          0.28      2075/76\n",
       "SANIMA  2019-07-17  356.0   17,566.00          2.30      2075/76\n",
       "\n",
       "[11009 rows x 5 columns]"
      ]
     },
     "execution_count": 28,
     "metadata": {},
     "output_type": "execute_result"
    }
   ],
   "source": [
    "df_price"
   ]
  },
  {
   "cell_type": "code",
   "execution_count": 29,
   "metadata": {},
   "outputs": [],
   "source": [
    "df_price.to_csv('data/allBanksPrices.csv')"
   ]
  },
  {
   "cell_type": "code",
   "execution_count": null,
   "metadata": {},
   "outputs": [],
   "source": []
  }
 ],
 "metadata": {
  "kernelspec": {
   "display_name": "ds",
   "language": "python",
   "name": "python3"
  },
  "language_info": {
   "codemirror_mode": {
    "name": "ipython",
    "version": 3
   },
   "file_extension": ".py",
   "mimetype": "text/x-python",
   "name": "python",
   "nbconvert_exporter": "python",
   "pygments_lexer": "ipython3",
   "version": "3.12.3"
  }
 },
 "nbformat": 4,
 "nbformat_minor": 2
}
